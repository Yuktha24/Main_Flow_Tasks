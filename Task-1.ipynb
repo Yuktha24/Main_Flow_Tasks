{
 "cells": [
  {
   "cell_type": "markdown",
   "id": "8cb7f492",
   "metadata": {},
   "source": [
    " # a. Data Loading"
   ]
  },
  {
   "cell_type": "markdown",
   "id": "64ba9d94",
   "metadata": {},
   "source": [
    "#### Reading the student performance dataset into a Pandas DataFrame. This allows for structured data manipulation and analysis."
   ]
  },
  {
   "cell_type": "code",
   "execution_count": 30,
   "id": "2230a95a",
   "metadata": {},
   "outputs": [],
   "source": [
    "import pandas as pd\n",
    "df=pd.read_csv(\"student-mat.csv\",sep=\";\")"
   ]
  },
  {
   "cell_type": "markdown",
   "id": "d1b830e8",
   "metadata": {},
   "source": [
    "#### Previewing the first five rows of the dataset. This helps in understanding its structure and identifying key columns."
   ]
  },
  {
   "cell_type": "code",
   "execution_count": 31,
   "id": "ce5dbaea",
   "metadata": {},
   "outputs": [
    {
     "name": "stdout",
     "output_type": "stream",
     "text": [
      "  school sex  age address famsize Pstatus  Medu  Fedu     Mjob      Fjob  ...  \\\n",
      "0     GP   F   18       U     GT3       A     4     4  at_home   teacher  ...   \n",
      "1     GP   F   17       U     GT3       T     1     1  at_home     other  ...   \n",
      "2     GP   F   15       U     LE3       T     1     1  at_home     other  ...   \n",
      "3     GP   F   15       U     GT3       T     4     2   health  services  ...   \n",
      "4     GP   F   16       U     GT3       T     3     3    other     other  ...   \n",
      "\n",
      "  famrel freetime  goout  Dalc  Walc health absences  G1  G2  G3  \n",
      "0      4        3      4     1     1      3        6   5   6   6  \n",
      "1      5        3      3     1     1      3        4   5   5   6  \n",
      "2      4        3      2     2     3      3       10   7   8  10  \n",
      "3      3        2      2     1     1      5        2  15  14  15  \n",
      "4      4        3      2     1     2      5        4   6  10  10  \n",
      "\n",
      "[5 rows x 33 columns]\n"
     ]
    }
   ],
   "source": [
    "print(df.head())"
   ]
  },
  {
   "cell_type": "markdown",
   "id": "39e11b21",
   "metadata": {},
   "source": [
    "# b. Data Exploration"
   ]
  },
  {
   "cell_type": "markdown",
   "id": "45afd66e",
   "metadata": {},
   "source": [
    "#### Identifying columns with missing values. This helps determine if data cleaning is needed before analysis."
   ]
  },
  {
   "cell_type": "code",
   "execution_count": 37,
   "id": "d2711701",
   "metadata": {},
   "outputs": [
    {
     "name": "stdout",
     "output_type": "stream",
     "text": [
      "school        0\n",
      "sex           0\n",
      "age           0\n",
      "address       0\n",
      "famsize       0\n",
      "Pstatus       0\n",
      "Medu          0\n",
      "Fedu          0\n",
      "Mjob          0\n",
      "Fjob          0\n",
      "reason        0\n",
      "guardian      0\n",
      "traveltime    0\n",
      "studytime     0\n",
      "failures      0\n",
      "schoolsup     0\n",
      "famsup        0\n",
      "paid          0\n",
      "activities    0\n",
      "nursery       0\n",
      "higher        0\n",
      "internet      0\n",
      "romantic      0\n",
      "famrel        0\n",
      "freetime      0\n",
      "goout         0\n",
      "Dalc          0\n",
      "Walc          0\n",
      "health        0\n",
      "absences      0\n",
      "G1            0\n",
      "G2            0\n",
      "G3            0\n",
      "dtype: int64\n"
     ]
    }
   ],
   "source": [
    "print(df.isnull().sum())"
   ]
  },
  {
   "cell_type": "markdown",
   "id": "8fe81b6c",
   "metadata": {},
   "source": [
    "#### Checking the data types of each column to ensure compatibility for calculations."
   ]
  },
  {
   "cell_type": "code",
   "execution_count": 38,
   "id": "2b85d431",
   "metadata": {},
   "outputs": [
    {
     "name": "stdout",
     "output_type": "stream",
     "text": [
      "school        object\n",
      "sex           object\n",
      "age            int64\n",
      "address       object\n",
      "famsize       object\n",
      "Pstatus       object\n",
      "Medu           int64\n",
      "Fedu           int64\n",
      "Mjob          object\n",
      "Fjob          object\n",
      "reason        object\n",
      "guardian      object\n",
      "traveltime     int64\n",
      "studytime      int64\n",
      "failures       int64\n",
      "schoolsup     object\n",
      "famsup        object\n",
      "paid          object\n",
      "activities    object\n",
      "nursery       object\n",
      "higher        object\n",
      "internet      object\n",
      "romantic      object\n",
      "famrel         int64\n",
      "freetime       int64\n",
      "goout          int64\n",
      "Dalc           int64\n",
      "Walc           int64\n",
      "health         int64\n",
      "absences       int64\n",
      "G1             int64\n",
      "G2             int64\n",
      "G3             int64\n",
      "dtype: object\n"
     ]
    }
   ],
   "source": [
    "print(df.dtypes)"
   ]
  },
  {
   "cell_type": "markdown",
   "id": "6fd63585",
   "metadata": {},
   "source": [
    "#### Displaying the total number of rows and columns. This provides insight into the dataset's scale and complexity."
   ]
  },
  {
   "cell_type": "code",
   "execution_count": 39,
   "id": "f074dd5d",
   "metadata": {},
   "outputs": [
    {
     "name": "stdout",
     "output_type": "stream",
     "text": [
      "(395, 33)\n"
     ]
    }
   ],
   "source": [
    "print(df.shape)"
   ]
  },
  {
   "cell_type": "markdown",
   "id": "52290357",
   "metadata": {},
   "source": [
    "# c. Data Cleaning"
   ]
  },
  {
   "cell_type": "markdown",
   "id": "6ec7f99b",
   "metadata": {},
   "source": [
    "#### Replacing missing values with the median or removing rows to maintain data consistency. Ensures completeness in analysis. Eliminating duplicate rows to avoid redundancy. This helps in maintaining accurate and reliable insights."
   ]
  },
  {
   "cell_type": "code",
   "execution_count": 40,
   "id": "ee1ce3e5",
   "metadata": {},
   "outputs": [],
   "source": [
    "df.fillna(df.median(numeric_only=True), inplace=True)\n",
    "df.drop_duplicates(inplace=True)"
   ]
  },
  {
   "cell_type": "code",
   "execution_count": 28,
   "id": "5cd8e3ed",
   "metadata": {},
   "outputs": [
    {
     "name": "stdout",
     "output_type": "stream",
     "text": [
      "<class 'pandas.core.frame.DataFrame'>\n",
      "Int64Index: 395 entries, 0 to 394\n",
      "Data columns (total 33 columns):\n",
      " #   Column      Non-Null Count  Dtype  \n",
      "---  ------      --------------  -----  \n",
      " 0   school      395 non-null    object \n",
      " 1   sex         0 non-null      float64\n",
      " 2   age         0 non-null      float64\n",
      " 3   address     0 non-null      float64\n",
      " 4   famsize     0 non-null      float64\n",
      " 5   Pstatus     0 non-null      float64\n",
      " 6   Medu        0 non-null      float64\n",
      " 7   Fedu        0 non-null      float64\n",
      " 8   Mjob        0 non-null      float64\n",
      " 9   Fjob        0 non-null      float64\n",
      " 10  reason      0 non-null      float64\n",
      " 11  guardian    0 non-null      float64\n",
      " 12  traveltime  0 non-null      float64\n",
      " 13  studytime   0 non-null      float64\n",
      " 14  failures    0 non-null      float64\n",
      " 15  schoolsup   0 non-null      float64\n",
      " 16  famsup      0 non-null      float64\n",
      " 17  paid        0 non-null      float64\n",
      " 18  activities  0 non-null      float64\n",
      " 19  nursery     0 non-null      float64\n",
      " 20  higher      0 non-null      float64\n",
      " 21  internet    0 non-null      float64\n",
      " 22  romantic    0 non-null      float64\n",
      " 23  famrel      0 non-null      float64\n",
      " 24  freetime    0 non-null      float64\n",
      " 25  goout       0 non-null      float64\n",
      " 26  Dalc        0 non-null      float64\n",
      " 27  Walc        0 non-null      float64\n",
      " 28  health      0 non-null      float64\n",
      " 29  absences    0 non-null      float64\n",
      " 30  G1          0 non-null      float64\n",
      " 31  G2          0 non-null      float64\n",
      " 32  G3          0 non-null      float64\n",
      "dtypes: float64(32), object(1)\n",
      "memory usage: 104.9+ KB\n",
      "None\n"
     ]
    }
   ],
   "source": [
    "print(df.info())"
   ]
  },
  {
   "cell_type": "markdown",
   "id": "14eb6ff9",
   "metadata": {},
   "source": [
    "# d. Data Analysis"
   ]
  },
  {
   "cell_type": "markdown",
   "id": "658c9819",
   "metadata": {},
   "source": [
    "#### Calculating the mean final grade (G3) to determine the overall student performance."
   ]
  },
  {
   "cell_type": "code",
   "execution_count": 41,
   "id": "7fbc504f",
   "metadata": {},
   "outputs": [
    {
     "name": "stdout",
     "output_type": "stream",
     "text": [
      "10.415189873417722\n"
     ]
    }
   ],
   "source": [
    "import numpy as np\n",
    "average = np.mean(df[\"G3\"])\n",
    "print(average)"
   ]
  },
  {
   "cell_type": "markdown",
   "id": "55351855",
   "metadata": {},
   "source": [
    "#### Counting students who achieved a final grade higher than 15 to assess high performers."
   ]
  },
  {
   "cell_type": "code",
   "execution_count": 42,
   "id": "e4e7bd50",
   "metadata": {},
   "outputs": [
    {
     "name": "stdout",
     "output_type": "stream",
     "text": [
      "40\n"
     ]
    }
   ],
   "source": [
    "high = (df[\"G3\"] > 15).sum()\n",
    "print(high)"
   ]
  },
  {
   "cell_type": "markdown",
   "id": "10b48fb0",
   "metadata": {},
   "source": [
    "#### Analyzing the relationship between study time and final grades to see if more study leads to better scores."
   ]
  },
  {
   "cell_type": "code",
   "execution_count": 44,
   "id": "826fb5e2",
   "metadata": {},
   "outputs": [
    {
     "name": "stdout",
     "output_type": "stream",
     "text": [
      "0.0978196896531963\n"
     ]
    }
   ],
   "source": [
    "correlation = df[\"studytime\"].corr(df[\"G3\"])\n",
    "print(correlation)"
   ]
  },
  {
   "cell_type": "markdown",
   "id": "ac9381a5",
   "metadata": {},
   "source": [
    "#### Comparing the average final grades of male and female students to identify performance differences."
   ]
  },
  {
   "cell_type": "code",
   "execution_count": 45,
   "id": "58eb1977",
   "metadata": {},
   "outputs": [
    {
     "name": "stdout",
     "output_type": "stream",
     "text": [
      "sex\n",
      "F     9.966346\n",
      "M    10.914439\n",
      "Name: G3, dtype: float64\n"
     ]
    }
   ],
   "source": [
    "gender_avg = df.groupby(\"sex\")[\"G3\"].mean()\n",
    "print(gender_avg)"
   ]
  },
  {
   "cell_type": "code",
   "execution_count": 47,
   "id": "6016b927",
   "metadata": {},
   "outputs": [
    {
     "name": "stdout",
     "output_type": "stream",
     "text": [
      "Male\n"
     ]
    }
   ],
   "source": [
    "higher_gender = \"Male\" if gender_avg[\"M\"] > gender_avg[\"F\"] else \"Female\"\n",
    "print(higher_gender)"
   ]
  },
  {
   "cell_type": "markdown",
   "id": "ff705e27",
   "metadata": {},
   "source": [
    "# e. Data Visualization"
   ]
  },
  {
   "cell_type": "markdown",
   "id": "e549d9d5",
   "metadata": {},
   "source": [
    "#### Visualizing the distribution of students' final grades (G3) using a histogram. This helps identify trends such as common scores and overall performance spread."
   ]
  },
  {
   "cell_type": "code",
   "execution_count": 48,
   "id": "748485dd",
   "metadata": {},
   "outputs": [
    {
     "data": {
      "image/png": "[encoded data removed]",
      "text/plain": [
       "<Figure size 640x480 with 1 Axes>"
      ]
     },
     "metadata": {},
     "output_type": "display_data"
    }
   ],
   "source": [
    "import matplotlib.pyplot as plt\n",
    "\n",
    "df = pd.read_csv(\"student-mat.csv\")  \n",
    "df[\"G3\"] = pd.to_numeric(df[\"G3\"], errors=\"coerce\")  \n",
    "\n",
    "plt.hist(df[\"G3\"], bins=10, color=\"skyblue\", edgecolor=\"black\")  \n",
    "plt.xlabel(\"Final Grade (G3)\")\n",
    "plt.ylabel(\"Number of Students\")\n",
    "plt.title(\"Distribution of Final Grades (G3)\")\n",
    "plt.show()"
   ]
  },
  {
   "cell_type": "markdown",
   "id": "b4ce22a3",
   "metadata": {},
   "source": [
    "#### Plotting study time against final grades to observe any correlation. This helps determine if increased study time leads to better performance."
   ]
  },
  {
   "cell_type": "code",
   "execution_count": 49,
   "id": "ee521965",
   "metadata": {},
   "outputs": [
    {
     "data": {
      "image/png": "[encoded data removed]",
      "text/plain": [
       "<Figure size 640x480 with 1 Axes>"
      ]
     },
     "metadata": {},
     "output_type": "display_data"
    }
   ],
   "source": [
    "df = pd.read_csv(\"student-mat.csv\")  \n",
    "df[\"G3\"] = pd.to_numeric(df[\"G3\"], errors=\"coerce\") \n",
    "df[\"studytime\"] = pd.to_numeric(df[\"studytime\"], errors=\"coerce\")  \n",
    "df = df.dropna(subset=[\"G3\", \"studytime\", \"sex\"]) \n",
    "\n",
    "\n",
    "plt.scatter(df[\"studytime\"], df[\"G3\"], color=\"red\", alpha=0.6)\n",
    "plt.xlabel(\"Study Time (hours per week)\")\n",
    "plt.ylabel(\"Final Grade (G3)\")\n",
    "plt.title(\"Study Time vs. Final Grade (G3)\")\n",
    "plt.show()"
   ]
  },
  {
   "cell_type": "markdown",
   "id": "413c7a22",
   "metadata": {},
   "source": [
    "#### Comparing the average final grades (G3) of male and female students using a bar chart. This helps analyze gender-based performance differences."
   ]
  },
  {
   "cell_type": "code",
   "execution_count": 50,
   "id": "7d2f915f",
   "metadata": {},
   "outputs": [
    {
     "data": {
      "image/png": "[encoded data removed]",
      "text/plain": [
       "<Figure size 640x480 with 1 Axes>"
      ]
     },
     "metadata": {},
     "output_type": "display_data"
    }
   ],
   "source": [
    "avg_scores = df.groupby(\"sex\")[\"G3\"].mean()\n",
    "plt.bar(avg_scores.index, avg_scores, color=[\"blue\", \"pink\"])\n",
    "plt.xlabel(\"Gender\")\n",
    "plt.ylabel(\"Average Final Grade (G3)\")\n",
    "plt.title(\"Average Final Grades by Gender\")\n",
    "plt.show()"
   ]
  }
 ],
 "metadata": {
  "kernelspec": {
   "display_name": "Python 3 (ipykernel)",
   "language": "python",
   "name": "python3"
  },
  "language_info": {
   "codemirror_mode": {
    "name": "ipython",
    "version": 3
   },
   "file_extension": ".py",
   "mimetype": "text/x-python",
   "name": "python",
   "nbconvert_exporter": "python",
   "pygments_lexer": "ipython3",
   "version": "3.11.3"
  }
 },
 "nbformat": 4,
 "nbformat_minor": 5
}
